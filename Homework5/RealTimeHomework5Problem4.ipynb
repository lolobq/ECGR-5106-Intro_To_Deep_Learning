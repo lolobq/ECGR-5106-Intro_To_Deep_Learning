{
  "nbformat": 4,
  "nbformat_minor": 0,
  "metadata": {
    "colab": {
      "provenance": [],
      "authorship_tag": "ABX9TyPkxDzKqyTc6epU6ygkyP2d",
      "include_colab_link": true
    },
    "kernelspec": {
      "name": "python3",
      "display_name": "Python 3"
    },
    "language_info": {
      "name": "python"
    }
  },
  "cells": [
    {
      "cell_type": "markdown",
      "metadata": {
        "id": "view-in-github",
        "colab_type": "text"
      },
      "source": [
        "<a href=\"https://colab.research.google.com/github/lolobq/ECGR-5106-Intro_To_Deep_Learning/blob/main/Homework5/RealTimeHomework5Problem4.ipynb\" target=\"_parent\"><img src=\"https://colab.research.google.com/assets/colab-badge.svg\" alt=\"Open In Colab\"/></a>"
      ]
    },
    {
      "cell_type": "markdown",
      "source": [
        "# Import Libraries + Data"
      ],
      "metadata": {
        "id": "X54Uy_FXrbMS"
      }
    },
    {
      "cell_type": "code",
      "execution_count": 1,
      "metadata": {
        "id": "pzv5SEDurPwZ"
      },
      "outputs": [],
      "source": [
        "import torch\n",
        "import torch.nn as nn\n",
        "import torch.optim as optim\n",
        "from torch.utils.data import DataLoader, Dataset\n",
        "\n",
        "# Device configuration\n",
        "device = torch.device(\"cuda\" if torch.cuda.is_available() else \"cpu\")"
      ]
    },
    {
      "cell_type": "markdown",
      "source": [
        "# Problem 4"
      ],
      "metadata": {
        "id": "aAN51W1Drfbc"
      }
    },
    {
      "cell_type": "markdown",
      "source": [
        "Like homework 4, Repeat problem 3, this time try to translate from French to English. Train the model on the entire dataset and evaluate it on the entire dataset. Report training loss, validation loss, and validation accuracy. Also, try some qualitative validation as well, asking the network to generate French translations for some English sentences. Which one seems to be more effective, French-to-English or English-to-French? Compare your results against RNN-based models."
      ],
      "metadata": {
        "id": "Bzo3hKYZrize"
      }
    },
    {
      "cell_type": "code",
      "source": [
        "# English to French translation dataset\n",
        "english_to_french = [\n",
        "    (\"I am cold\", \"J'ai froid\"),\n",
        "    (\"You are tired\", \"Tu es fatigué\"),\n",
        "    (\"He is hungry\", \"Il a faim\"),\n",
        "    (\"She is happy\", \"Elle est heureuse\"),\n",
        "    (\"We are friends\", \"Nous sommes amis\"),\n",
        "    (\"They are students\", \"Ils sont étudiants\"),\n",
        "    (\"The cat is sleeping\", \"Le chat dort\"),\n",
        "    (\"The sun is shining\", \"Le soleil brille\"),\n",
        "    (\"We love music\", \"Nous aimons la musique\"),\n",
        "    (\"She speaks French fluently\", \"Elle parle français couramment\"),\n",
        "    (\"He enjoys reading books\", \"Il aime lire des livres\"),\n",
        "    (\"They play soccer every weekend\", \"Ils jouent au football chaque week-end\"),\n",
        "    (\"The movie starts at 7 PM\", \"Le film commence à 19 heures\"),\n",
        "    (\"She wears a red dress\", \"Elle porte une robe rouge\"),\n",
        "    (\"We cook dinner together\", \"Nous cuisinons le dîner ensemble\"),\n",
        "    (\"He drives a blue car\", \"Il conduit une voiture bleue\"),\n",
        "    (\"They visit museums often\", \"Ils visitent souvent des musées\"),\n",
        "    (\"The restaurant serves delicious food\", \"Le restaurant sert une délicieuse cuisine\"),\n",
        "    (\"She studies mathematics at university\", \"Elle étudie les mathématiques à l'université\"),\n",
        "    (\"We watch movies on Fridays\", \"Nous regardons des films le vendredi\"),\n",
        "    (\"He listens to music while jogging\", \"Il écoute de la musique en faisant du jogging\"),\n",
        "    (\"They travel around the world\", \"Ils voyagent autour du monde\"),\n",
        "    (\"The book is on the table\", \"Le livre est sur la table\"),\n",
        "    (\"She dances gracefully\", \"Elle danse avec grâce\"),\n",
        "    (\"We celebrate birthdays with cake\", \"Nous célébrons les anniversaires avec un gâteau\"),\n",
        "    (\"He works hard every day\", \"Il travaille dur tous les jours\"),\n",
        "    (\"They speak different languages\", \"Ils parlent différentes langues\"),\n",
        "    (\"The flowers bloom in spring\", \"Les fleurs fleurissent au printemps\"),\n",
        "    (\"She writes poetry in her free time\", \"Elle écrit de la poésie pendant son temps libre\"),\n",
        "    (\"We learn something new every day\", \"Nous apprenons quelque chose de nouveau chaque jour\"),\n",
        "    (\"The dog barks loudly\", \"Le chien aboie bruyamment\"),\n",
        "    (\"He sings beautifully\", \"Il chante magnifiquement\"),\n",
        "    (\"They swim in the pool\", \"Ils nagent dans la piscine\"),\n",
        "    (\"The birds chirp in the morning\", \"Les oiseaux gazouillent le matin\"),\n",
        "    (\"She teaches English at school\", \"Elle enseigne l'anglais à l'école\"),\n",
        "    (\"We eat breakfast together\", \"Nous prenons le petit déjeuner ensemble\"),\n",
        "    (\"He paints landscapes\", \"Il peint des paysages\"),\n",
        "    (\"They laugh at the joke\", \"Ils rient de la blague\"),\n",
        "    (\"The clock ticks loudly\", \"L'horloge tic-tac bruyamment\"),\n",
        "    (\"She runs in the park\", \"Elle court dans le parc\"),\n",
        "    (\"We travel by train\", \"Nous voyageons en train\"),\n",
        "    (\"He writes a letter\", \"Il écrit une lettre\"),\n",
        "    (\"They read books at the library\", \"Ils lisent des livres à la bibliothèque\"),\n",
        "    (\"The baby cries\", \"Le bébé pleure\"),\n",
        "    (\"She studies hard for exams\", \"Elle étudie dur pour les examens\"),\n",
        "    (\"We plant flowers in the garden\", \"Nous plantons des fleurs dans le jardin\"),\n",
        "    (\"He fixes the car\", \"Il répare la voiture\"),\n",
        "    (\"They drink coffee in the morning\", \"Ils boivent du café le matin\"),\n",
        "    (\"The sun sets in the evening\", \"Le soleil se couche le soir\"),\n",
        "    (\"She dances at the party\", \"Elle danse à la fête\"),\n",
        "    (\"We play music at the concert\", \"Nous jouons de la musique au concert\"),\n",
        "    (\"He cooks dinner for his family\", \"Il cuisine le dîner pour sa famille\"),\n",
        "    (\"They study French grammar\", \"Ils étudient la grammaire française\"),\n",
        "    (\"The rain falls gently\", \"La pluie tombe doucement\"),\n",
        "    (\"She sings a song\", \"Elle chante une chanson\"),\n",
        "    (\"We watch a movie together\", \"Nous regardons un film ensemble\"),\n",
        "    (\"He sleeps deeply\", \"Il dort profondément\"),\n",
        "    (\"They travel to Paris\", \"Ils voyagent à Paris\"),\n",
        "    (\"The children play in the park\", \"Les enfants jouent dans le parc\"),\n",
        "    (\"She walks along the beach\", \"Elle se promène le long de la plage\"),\n",
        "    (\"We talk on the phone\", \"Nous parlons au téléphone\"),\n",
        "    (\"He waits for the bus\", \"Il attend le bus\"),\n",
        "    (\"They visit the Eiffel Tower\", \"Ils visitent la tour Eiffel\"),\n",
        "    (\"The stars twinkle at night\", \"Les étoiles scintillent la nuit\"),\n",
        "    (\"She dreams of flying\", \"Elle rêve de voler\"),\n",
        "    (\"We work in the office\", \"Nous travaillons au bureau\"),\n",
        "    (\"He studies history\", \"Il étudie l'histoire\"),\n",
        "    (\"They listen to the radio\", \"Ils écoutent la radio\"),\n",
        "    (\"The wind blows gently\", \"Le vent souffle doucement\"),\n",
        "    (\"She swims in the ocean\", \"Elle nage dans l'océan\"),\n",
        "    (\"We dance at the wedding\", \"Nous dansons au mariage\"),\n",
        "    (\"He climbs the mountain\", \"Il gravit la montagne\"),\n",
        "    (\"They hike in the forest\", \"Ils font de la randonnée dans la forêt\"),\n",
        "    (\"The cat meows loudly\", \"Le chat miaule bruyamment\"),\n",
        "    (\"She paints a picture\", \"Elle peint un tableau\"),\n",
        "    (\"We build a sandcastle\", \"Nous construisons un château de sable\"),\n",
        "    (\"He sings in the choir\", \"Il chante dans le chœur\")\n",
        "]"
      ],
      "metadata": {
        "id": "KtLvDF8yrpr1"
      },
      "execution_count": 2,
      "outputs": []
    },
    {
      "cell_type": "code",
      "source": [
        "reversed_dataset = [(french, english) for english, french in english_to_french]\n",
        "\n",
        "# 1. Reverse the order of sentences in your dataset\n",
        "reversed_dataset = [(target_sentence, input_sentence) for input_sentence, target_sentence in english_to_french]\n",
        "\n",
        "# Special tokens for the start and end of sequences\n",
        "SOS_token = 0  # Start Of Sequence Token\n",
        "EOS_token = 1  # End Of Sequence Token\n",
        "\n",
        "# 2. Modify the word-to-index mapping\n",
        "reversed_word_to_index = {\"SOS\": SOS_token, \"EOS\": EOS_token}\n",
        "for pair in reversed_dataset:\n",
        "    for word in pair[0].split() + pair[1].split():\n",
        "        if word not in reversed_word_to_index:\n",
        "            reversed_word_to_index[word] = len(reversed_word_to_index)\n",
        "\n",
        "# 3. Adjust the TranslationDataset class to generate input and target tensors in the reversed order\n",
        "class ReversedTranslationDataset(Dataset):\n",
        "    def __init__(self, dataset, word_to_index):\n",
        "        self.dataset = dataset\n",
        "        self.word_to_index = word_to_index\n",
        "\n",
        "    def __len__(self):\n",
        "        return len(self.dataset)\n",
        "\n",
        "    def __getitem__(self, idx):\n",
        "        target_sentence, input_sentence = self.dataset[idx]  # Reversed order\n",
        "        input_indices = [self.word_to_index[word] for word in input_sentence.split()] + [EOS_token]\n",
        "        target_indices = [self.word_to_index[word] for word in target_sentence.split()] + [EOS_token]\n",
        "        return torch.tensor(input_indices, dtype=torch.long), torch.tensor(target_indices, dtype=torch.long)\n",
        "\n",
        "# Creating a DataLoader to batch and shuffle the reversed dataset\n",
        "reversed_translation_dataset = ReversedTranslationDataset(reversed_dataset, reversed_word_to_index)\n",
        "reversed_dataloader = DataLoader(reversed_translation_dataset, batch_size=1, shuffle=True)\n",
        "\n",
        "class Transformer(nn.Module):\n",
        "    def __init__(self, input_vocab_size, target_vocab_size, hidden_size, num_layers=2, num_heads=8, dropout=0.1):\n",
        "        super(Transformer, self).__init__()\n",
        "        self.embedding_input = nn.Embedding(input_vocab_size, hidden_size)\n",
        "        self.embedding_target = nn.Embedding(target_vocab_size, hidden_size)\n",
        "        self.transformer = nn.Transformer(\n",
        "            d_model=hidden_size,\n",
        "            nhead=num_heads,\n",
        "            num_encoder_layers=num_layers,\n",
        "            num_decoder_layers=num_layers,\n",
        "            dim_feedforward=hidden_size * 4,\n",
        "            dropout=dropout\n",
        "        )\n",
        "        self.fc = nn.Linear(hidden_size, target_vocab_size)\n",
        "\n",
        "    def forward(self, input, target):\n",
        "        input_embedded = self.embedding_input(input)\n",
        "        target_embedded = self.embedding_target(target)\n",
        "\n",
        "        input_pad_mask = self.generate_padding_mask(input)\n",
        "        target_pad_mask = self.generate_padding_mask(target)\n",
        "        target_subsequent_mask = self.generate_subsequent_mask(target)\n",
        "\n",
        "        input_embedded = input_embedded.permute(1, 0, 2)\n",
        "        target_embedded = target_embedded.permute(1, 0, 2)\n",
        "\n",
        "        output = self.transformer(\n",
        "            input_embedded,\n",
        "            target_embedded,\n",
        "            src_key_padding_mask=input_pad_mask,\n",
        "            tgt_key_padding_mask=target_pad_mask,\n",
        "            memory_key_padding_mask=input_pad_mask,\n",
        "            tgt_mask=target_subsequent_mask\n",
        "        )\n",
        "\n",
        "        output = self.fc(output)\n",
        "        return output.permute(1, 0, 2)\n",
        "\n",
        "    def generate_padding_mask(self, sequence):\n",
        "        mask = (sequence == reversed_word_to_index[\"EOS\"])\n",
        "        return mask\n",
        "\n",
        "    def generate_subsequent_mask(self, sequence):\n",
        "        mask = (torch.triu(torch.ones(sequence.size(1), sequence.size(1))) == 1).transpose(0, 1)\n",
        "        mask = mask.float().masked_fill(mask == 0, float('-inf')).masked_fill(mask == 1, float(0.0))\n",
        "        return mask\n",
        "\n",
        "# Assuming all words in the dataset + 'SOS' and 'EOS' tokens are included in word_to_index\n",
        "input_size = len(reversed_word_to_index)\n",
        "hidden_size = 64\n",
        "output_size = len(reversed_word_to_index)\n",
        "\n",
        "device = torch.device(\"cuda\" if torch.cuda.is_available() else \"cpu\")\n",
        "\n",
        "model = Transformer(input_size, output_size, hidden_size).to(device)\n",
        "\n",
        "# Set the learning rate for optimization\n",
        "learning_rate = 0.0005\n",
        "\n",
        "# Define the loss function and optimizer\n",
        "criterion = nn.CrossEntropyLoss(ignore_index=reversed_word_to_index[\"EOS\"])\n",
        "optimizer = optim.Adam(model.parameters(), lr=learning_rate)\n",
        "\n",
        "# Set number of epochs for training\n",
        "n_epochs = 20\n",
        "\n",
        "# 4. Update the training loop to handle the reversed input-target pairs\n",
        "for epoch in range(n_epochs):\n",
        "    total_loss = 0\n",
        "    total_correct = 0\n",
        "    total_examples = 0\n",
        "\n",
        "    model.train()\n",
        "\n",
        "    for input_tensor, target_tensor in reversed_dataloader:  # Use reversed dataloader\n",
        "        input_tensor = input_tensor.to(device)\n",
        "        target_tensor = target_tensor.to(device)\n",
        "\n",
        "        optimizer.zero_grad()\n",
        "\n",
        "        output = model(input_tensor, target_tensor[:, :-1])  # Exclude EOS token from target\n",
        "        output_dim = output.shape[-1]\n",
        "\n",
        "        output = output.contiguous().view(-1, output_dim)\n",
        "        target_tensor = target_tensor[:, 1:].contiguous().view(-1)\n",
        "\n",
        "        loss = criterion(output, target_tensor)\n",
        "        loss.backward()\n",
        "        optimizer.step()\n",
        "\n",
        "        total_loss += loss.item()\n",
        "\n",
        "        _, predicted = torch.max(output, 1)\n",
        "        correct = (predicted == target_tensor).sum().item()\n",
        "        total_correct += correct\n",
        "        total_examples += target_tensor.size(0)\n",
        "\n",
        "    avg_loss = total_loss / len(reversed_dataloader)\n",
        "    training_accuracy = total_correct / total_examples\n",
        "\n",
        "    print(f\"Epoch [{epoch+1}/{n_epochs}], Loss: {avg_loss:.4f}, Training Accuracy: {training_accuracy:.4f}\")"
      ],
      "metadata": {
        "colab": {
          "base_uri": "https://localhost:8080/"
        },
        "id": "DernsjsgruQi",
        "outputId": "cc06789b-1993-4744-9746-1b7951349442"
      },
      "execution_count": 7,
      "outputs": [
        {
          "output_type": "stream",
          "name": "stderr",
          "text": [
            "/usr/local/lib/python3.10/dist-packages/torch/nn/modules/transformer.py:286: UserWarning: enable_nested_tensor is True, but self.use_nested_tensor is False because encoder_layer.self_attn.batch_first was not True(use batch_first for better inference performance)\n",
            "  warnings.warn(f\"enable_nested_tensor is True, but self.use_nested_tensor is False because {why_not_sparsity_fast_path}\")\n",
            "/usr/local/lib/python3.10/dist-packages/torch/nn/functional.py:5109: UserWarning: Support for mismatched key_padding_mask and attn_mask is deprecated. Use same type for both instead.\n",
            "  warnings.warn(\n"
          ]
        },
        {
          "output_type": "stream",
          "name": "stdout",
          "text": [
            "Epoch [1/20], Loss: 6.0092, Training Accuracy: 0.0107\n",
            "Epoch [2/20], Loss: 5.1089, Training Accuracy: 0.0773\n",
            "Epoch [3/20], Loss: 4.5889, Training Accuracy: 0.0987\n",
            "Epoch [4/20], Loss: 4.1362, Training Accuracy: 0.1573\n",
            "Epoch [5/20], Loss: 3.7471, Training Accuracy: 0.2347\n",
            "Epoch [6/20], Loss: 3.3494, Training Accuracy: 0.3013\n",
            "Epoch [7/20], Loss: 2.9824, Training Accuracy: 0.3493\n",
            "Epoch [8/20], Loss: 2.6639, Training Accuracy: 0.4133\n",
            "Epoch [9/20], Loss: 2.3408, Training Accuracy: 0.4907\n",
            "Epoch [10/20], Loss: 2.0648, Training Accuracy: 0.5467\n",
            "Epoch [11/20], Loss: 1.7792, Training Accuracy: 0.5893\n",
            "Epoch [12/20], Loss: 1.5327, Training Accuracy: 0.6160\n",
            "Epoch [13/20], Loss: 1.3426, Training Accuracy: 0.6773\n",
            "Epoch [14/20], Loss: 1.1385, Training Accuracy: 0.6773\n",
            "Epoch [15/20], Loss: 0.9598, Training Accuracy: 0.7280\n",
            "Epoch [16/20], Loss: 0.8171, Training Accuracy: 0.7360\n",
            "Epoch [17/20], Loss: 0.6916, Training Accuracy: 0.7573\n",
            "Epoch [18/20], Loss: 0.5820, Training Accuracy: 0.7707\n",
            "Epoch [19/20], Loss: 0.4867, Training Accuracy: 0.7760\n",
            "Epoch [20/20], Loss: 0.4067, Training Accuracy: 0.7787\n"
          ]
        }
      ]
    },
    {
      "cell_type": "code",
      "source": [
        "def evaluate_model(model, dataloader, criterion):\n",
        "    total_loss = 0\n",
        "    total_correct = 0\n",
        "    total_examples = 0\n",
        "\n",
        "    model.eval()  # Set the model to evaluation mode\n",
        "\n",
        "    with torch.no_grad():  # No gradient calculation during evaluation\n",
        "        for input_tensor, target_tensor in dataloader:\n",
        "            input_tensor = input_tensor.to(device)\n",
        "            target_tensor = target_tensor.to(device)\n",
        "\n",
        "            output = model(input_tensor, target_tensor[:, :-1])  # Exclude EOS token from target\n",
        "            output_dim = output.shape[-1]\n",
        "\n",
        "            output = output.contiguous().view(-1, output_dim)\n",
        "            target_tensor = target_tensor[:, 1:].contiguous().view(-1)  # Exclude SOS token from target\n",
        "\n",
        "            loss = criterion(output, target_tensor)\n",
        "\n",
        "            total_loss += loss.item()\n",
        "\n",
        "            _, predicted = torch.max(output, 1)\n",
        "            correct = (predicted == target_tensor).sum().item()\n",
        "            total_correct += correct\n",
        "            total_examples += target_tensor.size(0)  # Use target tensor size for total examples\n",
        "\n",
        "    avg_loss = total_loss / len(dataloader)\n",
        "    accuracy = total_correct / total_examples  # Calculate accuracy\n",
        "\n",
        "    return avg_loss, accuracy\n",
        "eval_loss, eval_accuracy = evaluate_model(model, reversed_dataloader, criterion)\n",
        "print(f\"Evaluation Loss: {eval_loss:.4f}, Evaluation Accuracy: {eval_accuracy:.4f}\")"
      ],
      "metadata": {
        "colab": {
          "base_uri": "https://localhost:8080/"
        },
        "id": "_0zH_biGsCTQ",
        "outputId": "186df065-e5be-476f-fd94-6d5c8bcce9d8"
      },
      "execution_count": 8,
      "outputs": [
        {
          "output_type": "stream",
          "name": "stdout",
          "text": [
            "Evaluation Loss: 0.1699, Evaluation Accuracy: 0.7920\n"
          ]
        }
      ]
    }
  ]
}