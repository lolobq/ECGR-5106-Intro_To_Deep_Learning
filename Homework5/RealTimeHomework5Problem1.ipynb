{
  "cells": [
    {
      "cell_type": "markdown",
      "metadata": {
        "id": "view-in-github",
        "colab_type": "text"
      },
      "source": [
        "<a href=\"https://colab.research.google.com/github/lolobq/ECGR-5106-Intro_To_Deep_Learning/blob/main/Homework5/RealTimeHomework5Problem1.ipynb\" target=\"_parent\"><img src=\"https://colab.research.google.com/assets/colab-badge.svg\" alt=\"Open In Colab\"/></a>"
      ]
    },
    {
      "cell_type": "markdown",
      "metadata": {
        "id": "0zDDyy4o6dN6"
      },
      "source": [
        "# Import Libraries + Data"
      ]
    },
    {
      "cell_type": "code",
      "execution_count": 2,
      "metadata": {
        "colab": {
          "base_uri": "https://localhost:8080/"
        },
        "id": "7EaRHcG4_t8d",
        "outputId": "ae9b6401-326d-49e1-c358-ec32912e36e9"
      },
      "outputs": [
        {
          "output_type": "stream",
          "name": "stdout",
          "text": [
            "Requirement already satisfied: torchinfo in /usr/local/lib/python3.10/dist-packages (1.8.0)\n"
          ]
        }
      ],
      "source": [
        "!pip install torchinfo\n",
        "\n",
        "import torch\n",
        "import torch.nn as nn\n",
        "import torch.optim as optim\n",
        "import numpy as np\n",
        "from sklearn.model_selection import train_test_split\n",
        "import time\n",
        "import numpy as np\n",
        "import torchinfo"
      ]
    },
    {
      "cell_type": "markdown",
      "metadata": {
        "id": "TToF8HPm_q-r"
      },
      "source": [
        "# Problem 1"
      ]
    },
    {
      "cell_type": "markdown",
      "metadata": {
        "id": "oVAvSF-WAVKW"
      },
      "source": [
        " In this problem, similar to homework 3 problem 1, we focus on the language model we did in the lectures. However, we expand it to a much longer sequence. Inspired by the course example, train and validate a transformer mode, for learning the above sequence. Use sequence lengths of 10, 20, and 30 for your training. Feel free to adjust other network parameters. Report and compare training loss, validation accuracy, execution time for training, and computational and mode size complexities against RNN-based approaches in Homework 3."
      ]
    },
    {
      "cell_type": "markdown",
      "metadata": {
        "id": "wi-mlmMLAtNN"
      },
      "source": [
        "Sequences of 10"
      ]
    },
    {
      "cell_type": "code",
      "execution_count": 2,
      "metadata": {
        "colab": {
          "base_uri": "https://localhost:8080/"
        },
        "id": "BHIGS_Ww6S6f",
        "outputId": "33fa040c-b45a-4e32-c187-b6df005bd6ac"
      },
      "outputs": [
        {
          "output_type": "stream",
          "name": "stderr",
          "text": [
            "/usr/local/lib/python3.10/dist-packages/torch/nn/modules/transformer.py:286: UserWarning: enable_nested_tensor is True, but self.use_nested_tensor is False because encoder_layer.self_attn.batch_first was not True(use batch_first for better inference performance)\n",
            "  warnings.warn(f\"enable_nested_tensor is True, but self.use_nested_tensor is False because {why_not_sparsity_fast_path}\")\n"
          ]
        },
        {
          "output_type": "stream",
          "name": "stdout",
          "text": [
            "===============================================================================================\n",
            "Layer (type:depth-idx)                        Output Shape              Param #\n",
            "===============================================================================================\n",
            "CharTransformer                               [1900, 44]                --\n",
            "├─Embedding: 1-1                              [1900, 10, 128]           5,632\n",
            "├─TransformerEncoder: 1-2                     [1900, 10, 128]           --\n",
            "│    └─ModuleList: 2-1                        --                        --\n",
            "│    │    └─TransformerEncoderLayer: 3-1      [1900, 10, 128]           593,024\n",
            "│    │    └─TransformerEncoderLayer: 3-2      [1900, 10, 128]           593,024\n",
            "│    │    └─TransformerEncoderLayer: 3-3      [1900, 10, 128]           593,024\n",
            "├─Linear: 1-3                                 [1900, 44]                5,676\n",
            "===============================================================================================\n",
            "Total params: 1,790,380\n",
            "Trainable params: 1,790,380\n",
            "Non-trainable params: 0\n",
            "Total mult-adds (G): 3.03\n",
            "===============================================================================================\n",
            "Input size (MB): 0.15\n",
            "Forward/backward pass size (MB): 1129.12\n",
            "Params size (MB): 6.37\n",
            "Estimated Total Size (MB): 1135.64\n",
            "===============================================================================================\n",
            "Epoch 5, Loss: 2.829401969909668, Validation Loss: 2.6700103282928467, Validation Accuracy: 0.27941176295280457, Execution Time: 18.270447731018066 seconds\n",
            "Epoch 10, Loss: 2.552777051925659, Validation Loss: 2.523683786392212, Validation Accuracy: 0.23529411852359772, Execution Time: 16.170519828796387 seconds\n",
            "Epoch 15, Loss: 2.440364122390747, Validation Loss: 2.4505257606506348, Validation Accuracy: 0.27941176295280457, Execution Time: 16.71851110458374 seconds\n",
            "Epoch 20, Loss: 2.3740100860595703, Validation Loss: 2.412954807281494, Validation Accuracy: 0.2710084021091461, Execution Time: 16.37756371498108 seconds\n",
            "Epoch 25, Loss: 2.321685791015625, Validation Loss: 2.368964910507202, Validation Accuracy: 0.29201680421829224, Execution Time: 17.226407289505005 seconds\n",
            "Epoch 30, Loss: 2.2885217666625977, Validation Loss: 2.3425052165985107, Validation Accuracy: 0.2899159789085388, Execution Time: 16.2433762550354 seconds\n",
            "Epoch 35, Loss: 2.2667012214660645, Validation Loss: 2.328082799911499, Validation Accuracy: 0.2836134433746338, Execution Time: 16.507776260375977 seconds\n",
            "Epoch 40, Loss: 2.246110200881958, Validation Loss: 2.3244121074676514, Validation Accuracy: 0.29201680421829224, Execution Time: 16.902719259262085 seconds\n",
            "Epoch 45, Loss: 2.23183012008667, Validation Loss: 2.316819667816162, Validation Accuracy: 0.3025210201740265, Execution Time: 16.58337688446045 seconds\n",
            "Epoch 50, Loss: 2.2328975200653076, Validation Loss: 2.319289445877075, Validation Accuracy: 0.28151261806488037, Execution Time: 17.38715934753418 seconds\n",
            "Total Execution Time: 834.1697237491608 seconds\n"
          ]
        }
      ],
      "source": [
        "# Sample text\n",
        "text = '''Next character prediction is a fundamental task in the field of natural language processing (NLP) that involves predicting the next character in a sequence of text based on the characters that precede it. This task is essential for various applications, including text auto-completion, spell checking, and even in the development of sophisticated AI models capable of generating human-like text. At its core, next character prediction relies on statistical models or deep learning algorithms to analyze a given sequence of text and predict which character is most likely to follow. These predictions are based on patterns and relationships learned from large datasets of text during the training phase of the model. One of the most popular approaches to next character prediction involves the use of Recurrent Neural Networks (RNNs), and more specifically, a variant called Long Short-Term Memory (LSTM) networks. RNNs are particularly well-suited for sequential data like text, as they can maintain information in 'memory' about previous characters to inform the prediction of the next character. LSTM networks enhance this capability by being able to remember long-term dependencies, making them even more effective for next character prediction tasks. Training a model for next character prediction involves feeding it large amounts of text data, allowing it to learn the probability of each character's appearance following a sequence of characters. During this training process, the model adjusts its parameters to minimize the difference between its predictions and the actual outcomes, thus improving its predictive accuracy over time. Once trained, the model can be used to predict the next character in a given piece of text by considering the sequence of characters that precede it. This can enhance user experience in text editing software, improve efficiency in coding environments with auto-completion features, and enable more natural interactions with AI-based chatbots and virtual assistants. In summary, next character prediction plays a crucial role in enhancing the capabilities of various NLP applications, making text-based interactions more efficient, accurate, and human-like. Through the use of advanced machine learning models like RNNs and LSTMs, next character prediction continues to evolve, opening new possibilities for the future of text-based technology.'''\n",
        "\n",
        "# Preparing the dataset for sequence prediction\n",
        "max_length = 10  # Maximum length of input sequences\n",
        "sequences = [text[i:i + max_length] for i in range(len(text) - max_length)]\n",
        "labels = [text[i + max_length] for i in range(len(text) - max_length)]\n",
        "\n",
        "# Creating character vocabulary\n",
        "chars = sorted(list(set(text)))\n",
        "char_to_ix = {ch: i for i, ch in enumerate(chars)}\n",
        "\n",
        "# Convert sequences and labels to tensors\n",
        "X = torch.tensor([[char_to_ix[ch] for ch in seq] for seq in sequences], dtype=torch.long)\n",
        "y = torch.tensor([char_to_ix[label] for label in labels], dtype=torch.long)\n",
        "\n",
        "# Splitting the dataset into training and validation sets\n",
        "X_train, X_val, y_train, y_val = train_test_split(X, y, test_size=0.2, random_state=42)\n",
        "\n",
        "# Define Transformer model\n",
        "class CharTransformer(nn.Module):\n",
        "    def __init__(self, input_size, hidden_size, output_size, num_layers, nhead):\n",
        "        super(CharTransformer, self).__init__()\n",
        "        self.embedding = nn.Embedding(input_size, hidden_size)\n",
        "        encoder_layers = nn.TransformerEncoderLayer(hidden_size, nhead)\n",
        "        self.transformer_encoder = nn.TransformerEncoder(encoder_layers, num_layers)\n",
        "        self.fc = nn.Linear(hidden_size, output_size)\n",
        "\n",
        "    def forward(self, x):\n",
        "        embedded = self.embedding(x)\n",
        "        transformer_output = self.transformer_encoder(embedded)\n",
        "        output = self.fc(transformer_output[:, -1, :])  # Get output of last Transformer block\n",
        "        return output\n",
        "\n",
        "# Hyperparameters\n",
        "hidden_size = 128\n",
        "num_layers = 3\n",
        "nhead = 2\n",
        "learning_rate = 0.001\n",
        "epochs = 50\n",
        "\n",
        "# Model, loss, and optimizer\n",
        "model = CharTransformer(len(chars), hidden_size, len(chars), num_layers, nhead)\n",
        "criterion = nn.CrossEntropyLoss()\n",
        "optimizer = optim.Adam(model.parameters(), lr=learning_rate)\n",
        "\n",
        "# Display model summary\n",
        "summary = torchinfo.summary(model, input_data=X_train)\n",
        "print(summary)\n",
        "\n",
        "# Training the model\n",
        "total_start_time = time.time()\n",
        "for epoch in range(epochs):\n",
        "    start_time = time.time()\n",
        "    model.train()\n",
        "    optimizer.zero_grad()\n",
        "    output = model(X_train)\n",
        "    loss = criterion(output, y_train)\n",
        "    loss.backward()\n",
        "    optimizer.step()\n",
        "\n",
        "    # Validation\n",
        "    model.eval()\n",
        "    with torch.no_grad():\n",
        "        val_output = model(X_val)\n",
        "        val_loss = criterion(val_output, y_val)\n",
        "        _, predicted = torch.max(val_output, 1)\n",
        "        val_accuracy = (predicted == y_val).float().mean()\n",
        "\n",
        "    if (epoch+1) % 5 == 0:\n",
        "        end_time = time.time()\n",
        "        execution_time = end_time - start_time\n",
        "        print(f'Epoch {epoch+1}, Loss: {loss.item()}, Validation Loss: {val_loss.item()}, Validation Accuracy: {val_accuracy.item()}, Execution Time: {execution_time} seconds')\n",
        "\n",
        "total_end_time = time.time()\n",
        "total_execution_time = total_end_time - total_start_time\n",
        "print(f'Total Execution Time: {total_execution_time} seconds')"
      ]
    },
    {
      "cell_type": "markdown",
      "metadata": {
        "id": "3FAoZrE1LUXb"
      },
      "source": [
        "Sequences of 20"
      ]
    },
    {
      "cell_type": "code",
      "execution_count": 3,
      "metadata": {
        "colab": {
          "base_uri": "https://localhost:8080/"
        },
        "id": "7I6EMXT6LYcr",
        "outputId": "5bfadf36-9991-47d2-81bd-3c1682541e59"
      },
      "outputs": [
        {
          "output_type": "stream",
          "name": "stderr",
          "text": [
            "/usr/local/lib/python3.10/dist-packages/torch/nn/modules/transformer.py:286: UserWarning: enable_nested_tensor is True, but self.use_nested_tensor is False because encoder_layer.self_attn.batch_first was not True(use batch_first for better inference performance)\n",
            "  warnings.warn(f\"enable_nested_tensor is True, but self.use_nested_tensor is False because {why_not_sparsity_fast_path}\")\n"
          ]
        },
        {
          "output_type": "stream",
          "name": "stdout",
          "text": [
            "===============================================================================================\n",
            "Layer (type:depth-idx)                        Output Shape              Param #\n",
            "===============================================================================================\n",
            "CharTransformer                               [1892, 44]                --\n",
            "├─Embedding: 1-1                              [1892, 20, 128]           5,632\n",
            "├─TransformerEncoder: 1-2                     [1892, 20, 128]           --\n",
            "│    └─ModuleList: 2-1                        --                        --\n",
            "│    │    └─TransformerEncoderLayer: 3-1      [1892, 20, 128]           593,024\n",
            "│    │    └─TransformerEncoderLayer: 3-2      [1892, 20, 128]           593,024\n",
            "│    │    └─TransformerEncoderLayer: 3-3      [1892, 20, 128]           593,024\n",
            "├─Linear: 1-3                                 [1892, 44]                5,676\n",
            "===============================================================================================\n",
            "Total params: 1,790,380\n",
            "Trainable params: 1,790,380\n",
            "Non-trainable params: 0\n",
            "Total mult-adds (G): 3.01\n",
            "===============================================================================================\n",
            "Input size (MB): 0.30\n",
            "Forward/backward pass size (MB): 2248.06\n",
            "Params size (MB): 6.37\n",
            "Estimated Total Size (MB): 2254.73\n",
            "===============================================================================================\n",
            "Epoch 5, Loss: 2.902303695678711, Validation Loss: 2.8105857372283936, Validation Accuracy: 0.20464135706424713, Execution Time: 33.94730591773987 seconds\n",
            "Epoch 10, Loss: 2.629087448120117, Validation Loss: 2.5793728828430176, Validation Accuracy: 0.2405063360929489, Execution Time: 33.82742261886597 seconds\n",
            "Epoch 15, Loss: 2.49463152885437, Validation Loss: 2.50187349319458, Validation Accuracy: 0.24261602759361267, Execution Time: 33.6160569190979 seconds\n",
            "Epoch 20, Loss: 2.4157893657684326, Validation Loss: 2.4567251205444336, Validation Accuracy: 0.27426159381866455, Execution Time: 33.36484980583191 seconds\n",
            "Epoch 25, Loss: 2.3571343421936035, Validation Loss: 2.4352853298187256, Validation Accuracy: 0.25738397240638733, Execution Time: 33.260478019714355 seconds\n",
            "Epoch 30, Loss: 2.320802688598633, Validation Loss: 2.3991174697875977, Validation Accuracy: 0.2637130916118622, Execution Time: 33.400601863861084 seconds\n",
            "Epoch 35, Loss: 2.2873716354370117, Validation Loss: 2.372976541519165, Validation Accuracy: 0.27848100662231445, Execution Time: 32.386797189712524 seconds\n",
            "Epoch 40, Loss: 2.270092725753784, Validation Loss: 2.3724288940429688, Validation Accuracy: 0.2552742660045624, Execution Time: 32.659749269485474 seconds\n",
            "Epoch 45, Loss: 2.2507073879241943, Validation Loss: 2.361520290374756, Validation Accuracy: 0.2805907130241394, Execution Time: 33.32268929481506 seconds\n",
            "Epoch 50, Loss: 2.2436301708221436, Validation Loss: 2.3631558418273926, Validation Accuracy: 0.2763713002204895, Execution Time: 32.71213507652283 seconds\n",
            "Total Execution Time: 1658.8146982192993 seconds\n"
          ]
        }
      ],
      "source": [
        "# Sample text\n",
        "text = '''Next character prediction is a fundamental task in the field of natural language processing (NLP) that involves predicting the next character in a sequence of text based on the characters that precede it. This task is essential for various applications, including text auto-completion, spell checking, and even in the development of sophisticated AI models capable of generating human-like text. At its core, next character prediction relies on statistical models or deep learning algorithms to analyze a given sequence of text and predict which character is most likely to follow. These predictions are based on patterns and relationships learned from large datasets of text during the training phase of the model. One of the most popular approaches to next character prediction involves the use of Recurrent Neural Networks (RNNs), and more specifically, a variant called Long Short-Term Memory (LSTM) networks. RNNs are particularly well-suited for sequential data like text, as they can maintain information in 'memory' about previous characters to inform the prediction of the next character. LSTM networks enhance this capability by being able to remember long-term dependencies, making them even more effective for next character prediction tasks. Training a model for next character prediction involves feeding it large amounts of text data, allowing it to learn the probability of each character's appearance following a sequence of characters. During this training process, the model adjusts its parameters to minimize the difference between its predictions and the actual outcomes, thus improving its predictive accuracy over time. Once trained, the model can be used to predict the next character in a given piece of text by considering the sequence of characters that precede it. This can enhance user experience in text editing software, improve efficiency in coding environments with auto-completion features, and enable more natural interactions with AI-based chatbots and virtual assistants. In summary, next character prediction plays a crucial role in enhancing the capabilities of various NLP applications, making text-based interactions more efficient, accurate, and human-like. Through the use of advanced machine learning models like RNNs and LSTMs, next character prediction continues to evolve, opening new possibilities for the future of text-based technology.'''\n",
        "\n",
        "# Preparing the dataset for sequence prediction\n",
        "max_length = 20  # Maximum length of input sequences\n",
        "sequences = [text[i:i + max_length] for i in range(len(text) - max_length)]\n",
        "labels = [text[i + max_length] for i in range(len(text) - max_length)]\n",
        "\n",
        "# Creating character vocabulary\n",
        "chars = sorted(list(set(text)))\n",
        "char_to_ix = {ch: i for i, ch in enumerate(chars)}\n",
        "\n",
        "# Convert sequences and labels to tensors\n",
        "X = torch.tensor([[char_to_ix[ch] for ch in seq] for seq in sequences], dtype=torch.long)\n",
        "y = torch.tensor([char_to_ix[label] for label in labels], dtype=torch.long)\n",
        "\n",
        "# Splitting the dataset into training and validation sets\n",
        "X_train, X_val, y_train, y_val = train_test_split(X, y, test_size=0.2, random_state=42)\n",
        "\n",
        "# Define Transformer model\n",
        "class CharTransformer(nn.Module):\n",
        "    def __init__(self, input_size, hidden_size, output_size, num_layers, nhead):\n",
        "        super(CharTransformer, self).__init__()\n",
        "        self.embedding = nn.Embedding(input_size, hidden_size)\n",
        "        encoder_layers = nn.TransformerEncoderLayer(hidden_size, nhead)\n",
        "        self.transformer_encoder = nn.TransformerEncoder(encoder_layers, num_layers)\n",
        "        self.fc = nn.Linear(hidden_size, output_size)\n",
        "\n",
        "    def forward(self, x):\n",
        "        embedded = self.embedding(x)\n",
        "        transformer_output = self.transformer_encoder(embedded)\n",
        "        output = self.fc(transformer_output[:, -1, :])  # Get output of last Transformer block\n",
        "        return output\n",
        "\n",
        "# Hyperparameters\n",
        "hidden_size = 128\n",
        "num_layers = 3\n",
        "nhead = 2\n",
        "learning_rate = 0.001\n",
        "epochs = 50\n",
        "\n",
        "# Model, loss, and optimizer\n",
        "model = CharTransformer(len(chars), hidden_size, len(chars), num_layers, nhead)\n",
        "criterion = nn.CrossEntropyLoss()\n",
        "optimizer = optim.Adam(model.parameters(), lr=learning_rate)\n",
        "\n",
        "# Display model summary\n",
        "summary = torchinfo.summary(model, input_data=X_train)\n",
        "print(summary)\n",
        "\n",
        "# Training the model\n",
        "total_start_time = time.time()\n",
        "for epoch in range(epochs):\n",
        "    start_time = time.time()\n",
        "    model.train()\n",
        "    optimizer.zero_grad()\n",
        "    output = model(X_train)\n",
        "    loss = criterion(output, y_train)\n",
        "    loss.backward()\n",
        "    optimizer.step()\n",
        "\n",
        "    # Validation\n",
        "    model.eval()\n",
        "    with torch.no_grad():\n",
        "        val_output = model(X_val)\n",
        "        val_loss = criterion(val_output, y_val)\n",
        "        _, predicted = torch.max(val_output, 1)\n",
        "        val_accuracy = (predicted == y_val).float().mean()\n",
        "\n",
        "    if (epoch+1) % 5 == 0:\n",
        "        end_time = time.time()\n",
        "        execution_time = end_time - start_time\n",
        "        print(f'Epoch {epoch+1}, Loss: {loss.item()}, Validation Loss: {val_loss.item()}, Validation Accuracy: {val_accuracy.item()}, Execution Time: {execution_time} seconds')\n",
        "\n",
        "total_end_time = time.time()\n",
        "total_execution_time = total_end_time - total_start_time\n",
        "print(f'Total Execution Time: {total_execution_time} seconds')"
      ]
    },
    {
      "cell_type": "markdown",
      "metadata": {
        "id": "YwyxXeTTLvfG"
      },
      "source": [
        "Sequences of 30"
      ]
    },
    {
      "cell_type": "code",
      "execution_count": 3,
      "metadata": {
        "colab": {
          "base_uri": "https://localhost:8080/"
        },
        "id": "S_DT4mWoLxzP",
        "outputId": "e631ab21-c607-4b9f-90bb-cb0d4f916924"
      },
      "outputs": [
        {
          "output_type": "stream",
          "name": "stderr",
          "text": [
            "/usr/local/lib/python3.10/dist-packages/torch/nn/modules/transformer.py:286: UserWarning: enable_nested_tensor is True, but self.use_nested_tensor is False because encoder_layer.self_attn.batch_first was not True(use batch_first for better inference performance)\n",
            "  warnings.warn(f\"enable_nested_tensor is True, but self.use_nested_tensor is False because {why_not_sparsity_fast_path}\")\n"
          ]
        },
        {
          "output_type": "stream",
          "name": "stdout",
          "text": [
            "===============================================================================================\n",
            "Layer (type:depth-idx)                        Output Shape              Param #\n",
            "===============================================================================================\n",
            "CharTransformer                               [1884, 44]                --\n",
            "├─Embedding: 1-1                              [1884, 30, 128]           5,632\n",
            "├─TransformerEncoder: 1-2                     [1884, 30, 128]           --\n",
            "│    └─ModuleList: 2-1                        --                        --\n",
            "│    │    └─TransformerEncoderLayer: 3-1      [1884, 30, 128]           593,024\n",
            "│    │    └─TransformerEncoderLayer: 3-2      [1884, 30, 128]           593,024\n",
            "├─Linear: 1-3                                 [1884, 44]                5,676\n",
            "===============================================================================================\n",
            "Total params: 1,197,356\n",
            "Trainable params: 1,197,356\n",
            "Non-trainable params: 0\n",
            "Total mult-adds (G): 2.01\n",
            "===============================================================================================\n",
            "Input size (MB): 0.45\n",
            "Forward/backward pass size (MB): 2257.85\n",
            "Params size (MB): 4.26\n",
            "Estimated Total Size (MB): 2262.56\n",
            "===============================================================================================\n",
            "Epoch 5, Loss: 2.7724125385284424, Validation Loss: 2.739386796951294, Validation Accuracy: 0.22669491171836853, Execution Time: 34.22837591171265 seconds\n",
            "Epoch 10, Loss: 2.542022705078125, Validation Loss: 2.5789334774017334, Validation Accuracy: 0.23516948521137238, Execution Time: 34.438804388046265 seconds\n",
            "Epoch 15, Loss: 2.441145420074463, Validation Loss: 2.5189452171325684, Validation Accuracy: 0.22669491171836853, Execution Time: 34.14780068397522 seconds\n",
            "Epoch 20, Loss: 2.3785905838012695, Validation Loss: 2.4940552711486816, Validation Accuracy: 0.21822033822536469, Execution Time: 33.687227964401245 seconds\n",
            "Epoch 25, Loss: 2.3335747718811035, Validation Loss: 2.459984302520752, Validation Accuracy: 0.24788135290145874, Execution Time: 34.31617975234985 seconds\n",
            "Epoch 30, Loss: 2.3007843494415283, Validation Loss: 2.446418523788452, Validation Accuracy: 0.24788135290145874, Execution Time: 33.46302628517151 seconds\n",
            "Epoch 35, Loss: 2.271259307861328, Validation Loss: 2.438570499420166, Validation Accuracy: 0.25, Execution Time: 34.39435172080994 seconds\n",
            "Epoch 40, Loss: 2.24881911277771, Validation Loss: 2.4344990253448486, Validation Accuracy: 0.24788135290145874, Execution Time: 34.640878200531006 seconds\n",
            "Epoch 45, Loss: 2.238251209259033, Validation Loss: 2.4346768856048584, Validation Accuracy: 0.24364407360553741, Execution Time: 34.25514793395996 seconds\n",
            "Epoch 50, Loss: 2.218820810317993, Validation Loss: 2.438627004623413, Validation Accuracy: 0.25211864709854126, Execution Time: 33.24434781074524 seconds\n",
            "Total Execution Time: 1713.871531009674 seconds\n"
          ]
        }
      ],
      "source": [
        "# Sample text\n",
        "text = '''Next character prediction is a fundamental task in the field of natural language processing (NLP) that involves predicting the next character in a sequence of text based on the characters that precede it. This task is essential for various applications, including text auto-completion, spell checking, and even in the development of sophisticated AI models capable of generating human-like text. At its core, next character prediction relies on statistical models or deep learning algorithms to analyze a given sequence of text and predict which character is most likely to follow. These predictions are based on patterns and relationships learned from large datasets of text during the training phase of the model. One of the most popular approaches to next character prediction involves the use of Recurrent Neural Networks (RNNs), and more specifically, a variant called Long Short-Term Memory (LSTM) networks. RNNs are particularly well-suited for sequential data like text, as they can maintain information in 'memory' about previous characters to inform the prediction of the next character. LSTM networks enhance this capability by being able to remember long-term dependencies, making them even more effective for next character prediction tasks. Training a model for next character prediction involves feeding it large amounts of text data, allowing it to learn the probability of each character's appearance following a sequence of characters. During this training process, the model adjusts its parameters to minimize the difference between its predictions and the actual outcomes, thus improving its predictive accuracy over time. Once trained, the model can be used to predict the next character in a given piece of text by considering the sequence of characters that precede it. This can enhance user experience in text editing software, improve efficiency in coding environments with auto-completion features, and enable more natural interactions with AI-based chatbots and virtual assistants. In summary, next character prediction plays a crucial role in enhancing the capabilities of various NLP applications, making text-based interactions more efficient, accurate, and human-like. Through the use of advanced machine learning models like RNNs and LSTMs, next character prediction continues to evolve, opening new possibilities for the future of text-based technology.'''\n",
        "\n",
        "# Preparing the dataset for sequence prediction\n",
        "max_length = 30  # Maximum length of input sequences\n",
        "sequences = [text[i:i + max_length] for i in range(len(text) - max_length)]\n",
        "labels = [text[i + max_length] for i in range(len(text) - max_length)]\n",
        "\n",
        "# Creating character vocabulary\n",
        "chars = sorted(list(set(text)))\n",
        "char_to_ix = {ch: i for i, ch in enumerate(chars)}\n",
        "\n",
        "# Convert sequences and labels to tensors\n",
        "X = torch.tensor([[char_to_ix[ch] for ch in seq] for seq in sequences], dtype=torch.long)\n",
        "y = torch.tensor([char_to_ix[label] for label in labels], dtype=torch.long)\n",
        "\n",
        "# Splitting the dataset into training and validation sets\n",
        "X_train, X_val, y_train, y_val = train_test_split(X, y, test_size=0.2, random_state=42)\n",
        "\n",
        "# Define Transformer model\n",
        "class CharTransformer(nn.Module):\n",
        "    def __init__(self, input_size, hidden_size, output_size, num_layers, nhead):\n",
        "        super(CharTransformer, self).__init__()\n",
        "        self.embedding = nn.Embedding(input_size, hidden_size)\n",
        "        encoder_layers = nn.TransformerEncoderLayer(hidden_size, nhead)\n",
        "        self.transformer_encoder = nn.TransformerEncoder(encoder_layers, num_layers)\n",
        "        self.fc = nn.Linear(hidden_size, output_size)\n",
        "\n",
        "    def forward(self, x):\n",
        "        embedded = self.embedding(x)\n",
        "        transformer_output = self.transformer_encoder(embedded)\n",
        "        output = self.fc(transformer_output[:, -1, :])  # Get output of last Transformer block\n",
        "        return output\n",
        "\n",
        "# Hyperparameters\n",
        "hidden_size = 128\n",
        "num_layers = 2\n",
        "nhead = 2\n",
        "learning_rate = 0.001\n",
        "epochs = 50\n",
        "\n",
        "# Model, loss, and optimizer\n",
        "model = CharTransformer(len(chars), hidden_size, len(chars), num_layers, nhead)\n",
        "criterion = nn.CrossEntropyLoss()\n",
        "optimizer = optim.Adam(model.parameters(), lr=learning_rate)\n",
        "\n",
        "# Display model summary\n",
        "summary = torchinfo.summary(model, input_data=X_train)\n",
        "print(summary)\n",
        "\n",
        "# Training the model\n",
        "total_start_time = time.time()\n",
        "for epoch in range(epochs):\n",
        "    start_time = time.time()\n",
        "    model.train()\n",
        "    optimizer.zero_grad()\n",
        "    output = model(X_train)\n",
        "    loss = criterion(output, y_train)\n",
        "    loss.backward()\n",
        "    optimizer.step()\n",
        "\n",
        "    # Validation\n",
        "    model.eval()\n",
        "    with torch.no_grad():\n",
        "        val_output = model(X_val)\n",
        "        val_loss = criterion(val_output, y_val)\n",
        "        _, predicted = torch.max(val_output, 1)\n",
        "        val_accuracy = (predicted == y_val).float().mean()\n",
        "\n",
        "    if (epoch+1) % 5 == 0:\n",
        "        end_time = time.time()\n",
        "        execution_time = end_time - start_time\n",
        "        print(f'Epoch {epoch+1}, Loss: {loss.item()}, Validation Loss: {val_loss.item()}, Validation Accuracy: {val_accuracy.item()}, Execution Time: {execution_time} seconds')\n",
        "\n",
        "total_end_time = time.time()\n",
        "total_execution_time = total_end_time - total_start_time\n",
        "print(f'Total Execution Time: {total_execution_time} seconds')"
      ]
    }
  ],
  "metadata": {
    "colab": {
      "provenance": [],
      "authorship_tag": "ABX9TyMRYretcvSRViQ4Sn0gLAEJ",
      "include_colab_link": true
    },
    "kernelspec": {
      "display_name": "Python 3",
      "name": "python3"
    },
    "language_info": {
      "name": "python"
    }
  },
  "nbformat": 4,
  "nbformat_minor": 0
}